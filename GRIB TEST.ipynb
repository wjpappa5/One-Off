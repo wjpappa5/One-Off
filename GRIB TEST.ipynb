{
 "cells": [
  {
   "cell_type": "code",
   "execution_count": null,
   "id": "490e956d",
   "metadata": {},
   "outputs": [],
   "source": [
    "#ESTABLISH ENVIRONMENT FIRST IN TERMINAL\n",
    "\n",
    "# conda install --yes -c anaconda xarray\n",
    "# conda install --yes -c conda-forge pynio\n",
    "# conda install -c anaconda pandas\n",
    "\n",
    "#REFERENCE: https://spire.com/tutorial/spire-weather-tutorial-intro-to-processing-grib2-data-with-python/\n",
    "#DATA: https://mrms.ncep.noaa.gov/data/2D/\n",
    "#ARCHIVE: https://mrms.agron.iastate.edu/"
   ]
  },
  {
   "cell_type": "code",
   "execution_count": null,
   "id": "3f518603",
   "metadata": {},
   "outputs": [],
   "source": [
    "#Import dependencies in environment\n",
    "import xarray as xr\n",
    "import pandas as pd"
   ]
  },
  {
   "cell_type": "code",
   "execution_count": null,
   "id": "ff4c287c",
   "metadata": {},
   "outputs": [],
   "source": [
    "#Read in GRIB2 data\n",
    "filepath = './Downloads/...'\n",
    "ds = xr.open_dataset(filepath, engine='pynio')\n",
    "print(ds)"
   ]
  },
  {
   "cell_type": "code",
   "execution_count": null,
   "id": "390935bf",
   "metadata": {},
   "outputs": [],
   "source": [
    "#Establish GRIB2 data as variable for parsing\n",
    "variable = ('VAR_209_6_36_P0_L102_GLL0')\n",
    "dd = ds.get(variable)\n",
    "print(dd)"
   ]
  },
  {
   "cell_type": "code",
   "execution_count": null,
   "id": "83322d92",
   "metadata": {},
   "outputs": [],
   "source": [
    "#Dataframe translation\n",
    "df = dd.to_dataframe()\n",
    "df"
   ]
  },
  {
   "cell_type": "code",
   "execution_count": null,
   "id": "2c7582bb",
   "metadata": {},
   "outputs": [],
   "source": [
    "#Extract latitudes and longitudes for mapping\n",
    "latitudes = df.index.get_level_values('lat_0')\n",
    "#latitudes\n",
    "longitudes = df.index.get_level_values('lon_0')\n",
    "#longitudes"
   ]
  },
  {
   "cell_type": "code",
   "execution_count": null,
   "id": "0a006b39",
   "metadata": {},
   "outputs": [],
   "source": [
    "#Establish latitude and longitude range\n",
    "map_function = lambda lon: (lon-360) if (lon>180) else lon\n",
    "remapped_longitudes = longitudes.map(map_function)\n",
    "df['longitude'] = remapped_longitudes\n",
    "df['latitude'] = latitudes\n",
    "df"
   ]
  },
  {
   "cell_type": "code",
   "execution_count": null,
   "id": "a8d576e8",
   "metadata": {},
   "outputs": [],
   "source": [
    "# RESERVED FOR FILTER\n",
    "# min_lat = ''\n",
    "# max_lat = ''\n",
    "# min_lon = ''\n",
    "# max_lon = ''\n",
    "# lat_filter = (df['latitude'] >= min_lat) & (df['latitude' <= max_lat])\n",
    "# lon_filter = (df['longitude'] >= min_lon) & (df['longitude' <= max_lon])\n",
    "# df = df.loc[lat_filter & lon_filter]"
   ]
  },
  {
   "cell_type": "code",
   "execution_count": null,
   "id": "f8a8bc72",
   "metadata": {},
   "outputs": [],
   "source": [
    "#Prep datetime attribute\n",
    "from datetime import datetime, timedelta\n",
    "\n",
    "def parse_datetime_from_filename(filename):\n",
    "    parts = filename.split(\".\")\n",
    "    date = parts[1]\n",
    "    forecast_date = datetime.strptime(date, \"%Y%m%d\")\n",
    "    issuance_time = parts[2]\n",
    "    issuance_time = int(issuance_time[1:3])\n",
    "    lead_time = parts[-2]\n",
    "    lead_time = int(lead_time[1:])\n",
    "    hours = issuance_time + lead_time\n",
    "    forecast_time = forecast_date + timedelta(hours=hours)\n",
    "    return str(forecast_time)\n",
    "timestamp = parse_datetime_from_filename(filepath)\n",
    "df[\"time\"] = timestamp"
   ]
  },
  {
   "cell_type": "code",
   "execution_count": null,
   "id": "81ffa2d8",
   "metadata": {},
   "outputs": [],
   "source": [
    "#Final Export to directory\n",
    "df = df.loc[:, [\"latitude\", \"longitude\", \"time\", variable]]\n",
    "df.to_csv(\"output_data.csv\", index=False)"
   ]
  },
  {
   "cell_type": "code",
   "execution_count": null,
   "id": "56a82f5f",
   "metadata": {},
   "outputs": [],
   "source": []
  }
 ],
 "metadata": {
  "kernelspec": {
   "display_name": "Python 3 (ipykernel)",
   "language": "python",
   "name": "python3"
  },
  "language_info": {
   "codemirror_mode": {
    "name": "ipython",
    "version": 3
   },
   "file_extension": ".py",
   "mimetype": "text/x-python",
   "name": "python",
   "nbconvert_exporter": "python",
   "pygments_lexer": "ipython3",
   "version": "3.9.15"
  }
 },
 "nbformat": 4,
 "nbformat_minor": 5
}
