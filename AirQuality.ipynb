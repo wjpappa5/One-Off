{
 "cells": [
  {
   "cell_type": "code",
   "execution_count": null,
   "metadata": {},
   "outputs": [],
   "source": [
    "# Dependencies\n",
    "import pandas as pd"
   ]
  },
  {
   "cell_type": "code",
   "execution_count": null,
   "metadata": {},
   "outputs": [],
   "source": [
    "# Build query URL and request your results\n",
    "data = pd.read_csv(r'C:\\Users\\willj\\OneDrive\\Desktop\\NYC_Hourly_2008-2023.csv')\n",
    "#data.head()\n",
    "agency = data.loc[data['AgencyName'] == 'New York Dept. of Environmental Conservation']\n",
    "dates = agency[(agency['UTC'] > '2023-06-06') & (agency['UTC'] < '2023-06-10')]\n",
    "sort = dates.sort_values(by=['UTC','SiteName'], ascending=True)\n",
    "funnel = sort[[\"SiteName\", \"UTC\",\"Parameter\",\"Value\",\"AQI\",\"RawConcentration\",\"AgencyName\"]]\n",
    "final = funnel.loc[funnel['Parameter'] == 'PM2.5']\n",
    "final.head()"
   ]
  },
  {
   "cell_type": "code",
   "execution_count": null,
   "metadata": {},
   "outputs": [],
   "source": [
    "final.to_csv(r'C:\\Users\\willj\\OneDrive\\Desktop\\AQI202306-06-10.csv', index=False, header=True)"
   ]
  },
  {
   "cell_type": "code",
   "execution_count": null,
   "metadata": {},
   "outputs": [],
   "source": []
  }
 ],
 "metadata": {
  "kernelspec": {
   "display_name": "Python 3",
   "language": "python",
   "name": "python3"
  },
  "language_info": {
   "codemirror_mode": {
    "name": "ipython",
    "version": 3
   },
   "file_extension": ".py",
   "mimetype": "text/x-python",
   "name": "python",
   "nbconvert_exporter": "python",
   "pygments_lexer": "ipython3",
   "version": "3.8.3"
  }
 },
 "nbformat": 4,
 "nbformat_minor": 4
}
