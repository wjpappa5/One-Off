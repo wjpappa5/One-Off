{
 "cells": [
  {
   "cell_type": "code",
   "execution_count": 1,
   "metadata": {},
   "outputs": [
    {
     "name": "stdout",
     "output_type": "stream",
     "text": [
      "Requirement already satisfied: splinter in c:\\users\\bpappas\\anaconda3\\lib\\site-packages (0.14.0)\n",
      "Requirement already satisfied: six in c:\\users\\bpappas\\anaconda3\\lib\\site-packages (from splinter) (1.15.0)\n",
      "Requirement already satisfied: selenium>=3.141.0 in c:\\users\\bpappas\\anaconda3\\lib\\site-packages (from splinter) (3.141.0)\n",
      "Requirement already satisfied: urllib3 in c:\\users\\bpappas\\anaconda3\\lib\\site-packages (from selenium>=3.141.0->splinter) (1.25.11)\n"
     ]
    }
   ],
   "source": [
    "!pip install splinter\n",
    "import pandas as pd\n",
    "import requests\n",
    "from tkinter import *\n",
    "from splinter import Browser\n",
    "from bs4 import BeautifulSoup\n",
    "from webdriver_manager.chrome import ChromeDriverManager\n",
    "import time"
   ]
  },
  {
   "cell_type": "code",
   "execution_count": 2,
   "metadata": {},
   "outputs": [],
   "source": [
    "#NEW URL -- HAVE TO CHANGE BITCOIN TO VARIABLE\n",
    "stats = 'https://coinmarketcap.com/currencies/bitcoin/'"
   ]
  },
  {
   "cell_type": "code",
   "execution_count": 3,
   "metadata": {},
   "outputs": [],
   "source": [
    "#Cooking in the Kitchen\n",
    "analysis = requests.get(stats)\n",
    "broth = BeautifulSoup(analysis.text, 'html.parser')\n",
    "#broth"
   ]
  },
  {
   "cell_type": "code",
   "execution_count": 4,
   "metadata": {},
   "outputs": [],
   "source": [
    "#Pulling Tables in HTML\n",
    "tables = broth.findAll('table')\n",
    "#tables"
   ]
  },
  {
   "cell_type": "code",
   "execution_count": 5,
   "metadata": {},
   "outputs": [],
   "source": [
    "#First Table\n",
    "first_table_scrape = tables[0]\n",
    "# first_table_scrape\n",
    "first_table_tds = first_table_scrape.find_all('td')\n",
    "#first_table_tds"
   ]
  },
  {
   "cell_type": "code",
   "execution_count": 6,
   "metadata": {},
   "outputs": [],
   "source": [
    "#Second Table\n",
    "second_table_scrape = tables[1]\n",
    "#second_table_scrape\n",
    "second_table_tds = second_table_scrape.find_all('td')\n",
    "#second_table_tds"
   ]
  },
  {
   "cell_type": "code",
   "execution_count": 7,
   "metadata": {},
   "outputs": [],
   "source": [
    "#Third Table\n",
    "third_table_scrape = tables[2]\n",
    "#third_table_scrape\n",
    "third_table_tds = third_table_scrape.find_all('td')\n",
    "#third_table_tds"
   ]
  },
  {
   "cell_type": "code",
   "execution_count": 8,
   "metadata": {},
   "outputs": [],
   "source": [
    "#Fourth Table\n",
    "fourth_table_scrape = tables[3]\n",
    "#fourth_table_scrape\n",
    "fourth_table_tds = fourth_table_scrape.find_all('td')\n",
    "#fourth_table_tds"
   ]
  },
  {
   "cell_type": "code",
   "execution_count": 9,
   "metadata": {},
   "outputs": [],
   "source": [
    "#Fifth Table\n",
    "fifth_table_scrape = tables[4]\n",
    "#fifth_table_scrape\n",
    "fifth_table_tds = fifth_table_scrape.find_all('td')\n",
    "#fifth_table_tds"
   ]
  },
  {
   "cell_type": "code",
   "execution_count": 10,
   "metadata": {},
   "outputs": [],
   "source": [
    "#Pull ABOUT Narrative\n",
    "texts = broth.select('div.about___1OuKY')\n",
    "#texts"
   ]
  },
  {
   "cell_type": "code",
   "execution_count": 11,
   "metadata": {},
   "outputs": [],
   "source": [
    "#Establishing List\n",
    "tables = []\n",
    "\n",
    "#Creating the Dictionary\n",
    "table = {}\n",
    "\n",
    "#First Table\n",
    "price = first_table_tds[0].get_text()\n",
    "pricechange24hr = first_table_tds[1].find_all('span')[0].get_text()\n",
    "percentchange24hr = first_table_tds[1].find_all('span')[1].get_text()\n",
    "low24hr = first_table_tds[2].find_all('div')[0].get_text().split(' /')[0]\n",
    "high24hr = first_table_tds[2].find_all('div')[1].get_text().split(' /')[0]\n",
    "tradingvolume = first_table_tds[3].find_all('span')[0].get_text()\n",
    "tradingvolumepercdelta = first_table_tds[3].find_all('span')[1].get_text()\n",
    "marketdominance = first_table_tds[4].find_all('span')[0].get_text()\n",
    "marketrank = first_table_tds[5].get_text().split('#')[1]\n",
    "\n",
    "#Second Table\n",
    "marketcap = second_table_tds[0].find_all('span')[0].get_text()\n",
    "fullydiluted = second_table_tds[1].find_all('span')[0].get_text()\n",
    "\n",
    "#Third Table\n",
    "yestlow = third_table_tds[0].find_all('div')[0].get_text().split(' /')[0]\n",
    "yesthigh = third_table_tds[0].find_all('div')[1].get_text().split(' /')[0]\n",
    "yestopen = third_table_tds[1].find_all('div')[0].get_text().split(' /')[0]\n",
    "yestclose = third_table_tds[1].find_all('div')[1].get_text().split(' /')[0]\n",
    "yestvol = third_table_tds[3].get_text()\n",
    "\n",
    "#Fourth Table\n",
    "d7low = fourth_table_tds[0].find_all('div')[0].get_text().split(' /')[0]\n",
    "d7high = fourth_table_tds[0].find_all('div')[1].get_text().split(' /')[0]\n",
    "d30low = fourth_table_tds[1].find_all('div')[0].get_text().split(' /')[0]\n",
    "d30high = fourth_table_tds[1].find_all('div')[1].get_text().split(' /')[0]\n",
    "d90low = fourth_table_tds[2].find_all('div')[0].get_text().split(' /')[0]\n",
    "d90high = fourth_table_tds[2].find_all('div')[1].get_text().split(' /')[0]\n",
    "wk52low = fourth_table_tds[3].find_all('div')[0].get_text().split(' /')[0]\n",
    "wk52high = fourth_table_tds[3].find_all('div')[1].get_text().split(' /')[0]\n",
    "alltimehigh = fourth_table_tds[4].find_all('span')[0].get_text()\n",
    "alltimehighperc = fourth_table_tds[4].find_all('span')[1].get_text()\n",
    "alltimelow = fourth_table_tds[5].find_all('span')[0].get_text()\n",
    "alltimelowperc = fourth_table_tds[5].find_all('span')[1].get_text()\n",
    "\n",
    "#Fifth Table\n",
    "circsupp = fifth_table_tds[0].get_text()\n",
    "totsupp = fifth_table_tds[1].get_text()\n",
    "mxsupp = fifth_table_tds[2].get_text()\n",
    "\n",
    "#Narrative\n",
    "intro1 = texts[1].find_all('p')[0].get_text()\n",
    "intro2 = texts[1].find_all('p')[1].get_text()\n",
    "fullintro = f'{intro1}{intro2}'\n",
    "\n",
    "#Building the Dictionary\n",
    "table['Price'] = price\n",
    "table['24hr Price Change'] = pricechange24hr\n",
    "table['24hr % Change'] = percentchange24hr\n",
    "table['24hr Low'] = low24hr\n",
    "table['24hr High'] = high24hr\n",
    "table['24hr Trading Volume'] = tradingvolume\n",
    "table['24hr Trading Volume % Change'] = tradingvolumepercdelta\n",
    "table['Market Dominance'] = marketdominance\n",
    "table['Market Rank'] = marketrank\n",
    "table['Market Cap'] = marketcap\n",
    "table['Fully Diluted Market Cap'] = fullydiluted\n",
    "table['Yesterday Low'] = yestlow\n",
    "table['Yesterday High'] = yesthigh\n",
    "table['Yesterday Open'] = yestopen\n",
    "table['Yesterday Close'] = yestclose\n",
    "table['Yesterday Volume'] = yestvol\n",
    "table['7 Day Low'] = d7low\n",
    "table['7 Day High'] = d7high\n",
    "table['30 Day Low'] = d30low\n",
    "table['30 Day High'] = d30high\n",
    "table['90 Day Low'] = d90low\n",
    "table['90 Day High'] = d90high\n",
    "table['52 Week Low'] = wk52low\n",
    "table['52 Week High'] = wk52high\n",
    "table['All Time High'] = alltimehigh\n",
    "table['All Time High %'] = alltimehighperc\n",
    "table['All Time Low'] = alltimelow\n",
    "table['All Time Low %'] = alltimelowperc\n",
    "table['Cirulating Supply'] = circsupp\n",
    "table['Total Supply'] = totsupp\n",
    "table['Max Supply'] = mxsupp\n",
    "table[\"About\"] = fullintro\n",
    "table['Link'] = stats\n",
    "\n",
    "#Appending\n",
    "tables.append(table)\n",
    "\n",
    "#Print Final Dictionary\n",
    "#tables"
   ]
  },
  {
   "cell_type": "code",
   "execution_count": 12,
   "metadata": {},
   "outputs": [],
   "source": [
    "#NEW URL\n",
    "markets = 'https://coinmarketcap.com/currencies/bitcoin-cash/markets/'"
   ]
  },
  {
   "cell_type": "code",
   "execution_count": 13,
   "metadata": {},
   "outputs": [],
   "source": [
    "#Cooking in the Kitchen\n",
    "whereto = requests.get(markets)\n",
    "bisque = BeautifulSoup(whereto.text, 'html.parser')\n",
    "#bisque"
   ]
  },
  {
   "cell_type": "code",
   "execution_count": 14,
   "metadata": {},
   "outputs": [],
   "source": [
    "#Pulling Tables in HTML\n",
    "frames = bisque.findAll('table')\n",
    "board = frames[0]\n",
    "#board"
   ]
  },
  {
   "cell_type": "code",
   "execution_count": 15,
   "metadata": {},
   "outputs": [],
   "source": [
    "#Setting up trs -- remember to skip [0] tr since it's a header\n",
    "board_trs = board.find_all('tr')\n",
    "#board_trs"
   ]
  },
  {
   "cell_type": "code",
   "execution_count": 323,
   "metadata": {},
   "outputs": [],
   "source": [
    "#Top 100 Crypto Markets for Query\n",
    "guides = []\n",
    "\n",
    "for i in range(1,101,1):\n",
    "    \n",
    "    tds = board_trs[i].find_all('td')\n",
    "\n",
    "    guide = {}\n",
    "\n",
    "    source = tds[1].find_all('p')[0].getText()\n",
    "    pairs = tds[2].find_all('a')[0].getText()\n",
    "    web = tds[2].find_all('a')[0].get('href')\n",
    "    price = tds[3].get_text()\n",
    "    volume = tds[4].find_all('p')[0].getText()\n",
    "    volumeperc = tds[5].find_all('div')[0].get_text()\n",
    "    liquid = tds[6].find_all('p')[0].getText()\n",
    "    confidence = tds[7].find_all('div')[0].get_text()\n",
    "    updated = tds[8].find_all('p')[0].getText()\n",
    "\n",
    "    guide['Source'] = source\n",
    "    guide['Currency'] = pairs\n",
    "    guide['URL'] = web\n",
    "    guide['Price'] = price\n",
    "    guide['Volume'] = volume\n",
    "    guide['Volume %'] = volumeperc\n",
    "    guide['Liquidity'] = liquid\n",
    "    guide['Confidence'] = confidence\n",
    "    guide['Last Updated'] = updated\n",
    "\n",
    "    guides.append(guide)\n",
    "\n",
    "#guides\n",
    "blackmarket = pd.DataFrame(guides)\n",
    "#blackmarket"
   ]
  },
  {
   "cell_type": "code",
   "execution_count": 324,
   "metadata": {},
   "outputs": [],
   "source": [
    "#NEW URL - Creating Date List\n",
    "dates = 'https://coinmarketcap.com/historical/'"
   ]
  },
  {
   "cell_type": "code",
   "execution_count": 325,
   "metadata": {},
   "outputs": [],
   "source": [
    "#Cooking in the Kitchen\n",
    "select = requests.get(dates)\n",
    "pho = BeautifulSoup(select.text, 'html.parser')\n",
    "#pho"
   ]
  },
  {
   "cell_type": "code",
   "execution_count": 326,
   "metadata": {},
   "outputs": [],
   "source": [
    "#Pull history of all dates\n",
    "links = pho.find_all('div',class_='cmc-bottom-margin-2x')[0].find_all('a',class_='historical-link cmc-link')\n",
    "#links"
   ]
  },
  {
   "cell_type": "code",
   "execution_count": 327,
   "metadata": {},
   "outputs": [],
   "source": [
    "#Create DataFrame\n",
    "dates = []\n",
    "\n",
    "for l in range(1,len(links),1):\n",
    "    \n",
    "    date = {}\n",
    "    \n",
    "    nums=links[l].get('href').split(\"/\")[2]\n",
    "    \n",
    "    date['Raw'] = nums\n",
    "\n",
    "    dates.append(date)\n",
    "    \n",
    "timeline = pd.DataFrame(dates)\n",
    "#timeline"
   ]
  },
  {
   "cell_type": "code",
   "execution_count": 335,
   "metadata": {},
   "outputs": [],
   "source": [
    "#Reformat DataFrame\n",
    "timeline['Form'] = timeline['Raw'].astype(str)\n",
    "timeline['Day'] = timeline['Form'].str[6:8]\n",
    "timeline['Month'] = timeline['Form'].str[4:6]\n",
    "timeline['Year'] = timeline['Form'].str[0:4]\n",
    "timeline.drop('Form', axis=1, inplace=True)\n",
    "#timeline"
   ]
  },
  {
   "cell_type": "code",
   "execution_count": 337,
   "metadata": {},
   "outputs": [],
   "source": [
    "#Add the Query column to the DataFrame\n",
    "timeline[\"Query\"] = timeline[\"Month\"] + \"/\" + timeline[\"Day\"] + \"/\" + timeline[\"Year\"]\n",
    "#timeline\n",
    "specs = timeline['Query'].values\n",
    "#specs"
   ]
  },
  {
   "cell_type": "code",
   "execution_count": 336,
   "metadata": {},
   "outputs": [
    {
     "data": {
      "text/plain": [
       "'07/07/2013'"
      ]
     },
     "execution_count": 336,
     "metadata": {},
     "output_type": "execute_result"
    }
   ],
   "source": [
    "#Create a Date select function\n",
    "root = Tk()\n",
    "root.geometry( \"200x200\" )\n",
    "def show():\n",
    "    label.config( text = clicked.get() )\n",
    "    \n",
    "options = specs\n",
    "clicked = StringVar()\n",
    "clicked.set('Click Me!')\n",
    "\n",
    "drop = OptionMenu( root, clicked, *options)\n",
    "drop.pack()\n",
    "\n",
    "button = Button(root, text = 'Select This Date?', command =show).pack()\n",
    "\n",
    "label= Label(root, text = \" \")\n",
    "label.pack()\n",
    "\n",
    "root.mainloop()\n",
    "\n",
    "content = clicked.get()\n",
    "#content\n",
    "birth = content\n",
    "birth\n",
    "\n",
    "#Don't Forget to 'x' out of the prompt!"
   ]
  },
  {
   "cell_type": "code",
   "execution_count": 345,
   "metadata": {},
   "outputs": [],
   "source": [
    "#Reformat the User Input for URL variable\n",
    "reform = birth.split('/')\n",
    "history_input = f'{reform[2]}{reform[0]}{reform[1]}'\n",
    "#history_input"
   ]
  },
  {
   "cell_type": "code",
   "execution_count": 359,
   "metadata": {},
   "outputs": [],
   "source": [
    "#NEW URL\n",
    "history = f'https://coinmarketcap.com/historical/{history_input}/'\n",
    "#print(history)"
   ]
  },
  {
   "cell_type": "code",
   "execution_count": 360,
   "metadata": {},
   "outputs": [],
   "source": [
    "#Cooking in the Kitchen\n",
    "story = requests.get(history)\n",
    "chowder = BeautifulSoup(story.text, 'html.parser')\n",
    "#chowder"
   ]
  },
  {
   "cell_type": "code",
   "execution_count": 361,
   "metadata": {},
   "outputs": [],
   "source": [
    "#Dive into the table\n",
    "exhibits = chowder.findAll('tbody')\n",
    "itinerary = exhibits[0]\n",
    "#itinerary"
   ]
  },
  {
   "cell_type": "code",
   "execution_count": 362,
   "metadata": {},
   "outputs": [],
   "source": [
    "#Locate table data\n",
    "itinerary_trs = itinerary.find_all('tr')\n",
    "#itinerary_trs"
   ]
  },
  {
   "cell_type": "code",
   "execution_count": 385,
   "metadata": {},
   "outputs": [
    {
     "name": "stdout",
     "output_type": "stream",
     "text": [
      "-------------Historical Snapshot for NAME OF CRYPTO on 07/07/2013-------------\n"
     ]
    },
    {
     "data": {
      "text/html": [
       "<div>\n",
       "<style scoped>\n",
       "    .dataframe tbody tr th:only-of-type {\n",
       "        vertical-align: middle;\n",
       "    }\n",
       "\n",
       "    .dataframe tbody tr th {\n",
       "        vertical-align: top;\n",
       "    }\n",
       "\n",
       "    .dataframe thead th {\n",
       "        text-align: right;\n",
       "    }\n",
       "</style>\n",
       "<table border=\"1\" class=\"dataframe\">\n",
       "  <thead>\n",
       "    <tr style=\"text-align: right;\">\n",
       "      <th></th>\n",
       "      <th>Rank</th>\n",
       "      <th>Name</th>\n",
       "      <th>Symbol</th>\n",
       "      <th>Market Cap</th>\n",
       "      <th>Price</th>\n",
       "      <th>Circulating Supply</th>\n",
       "      <th>1 Hour Percent Change</th>\n",
       "      <th>24 Hour Percent Change</th>\n",
       "      <th>7 Day Percent Change</th>\n",
       "    </tr>\n",
       "  </thead>\n",
       "  <tbody>\n",
       "    <tr>\n",
       "      <th>0</th>\n",
       "      <td>1</td>\n",
       "      <td>Bitcoin</td>\n",
       "      <td>BTC</td>\n",
       "      <td>$848,838,936</td>\n",
       "      <td>$74.56</td>\n",
       "      <td>11,384,475 BTC</td>\n",
       "      <td>1.27%</td>\n",
       "      <td>7.20%</td>\n",
       "      <td>-23.21%</td>\n",
       "    </tr>\n",
       "    <tr>\n",
       "      <th>1</th>\n",
       "      <td>2</td>\n",
       "      <td>Litecoin</td>\n",
       "      <td>LTC</td>\n",
       "      <td>$51,099,941</td>\n",
       "      <td>$2.66</td>\n",
       "      <td>19,235,004 LTC</td>\n",
       "      <td>1.16%</td>\n",
       "      <td>6.87%</td>\n",
       "      <td>-11.42%</td>\n",
       "    </tr>\n",
       "    <tr>\n",
       "      <th>2</th>\n",
       "      <td>3</td>\n",
       "      <td>Namecoin</td>\n",
       "      <td>NMC</td>\n",
       "      <td>$2,598,102</td>\n",
       "      <td>$0.4369</td>\n",
       "      <td>5,946,293 NMC</td>\n",
       "      <td>-0.42%</td>\n",
       "      <td>-3.99%</td>\n",
       "      <td>-13.82%</td>\n",
       "    </tr>\n",
       "    <tr>\n",
       "      <th>3</th>\n",
       "      <td>4</td>\n",
       "      <td>Peercoin</td>\n",
       "      <td>PPC</td>\n",
       "      <td>$2,582,887</td>\n",
       "      <td>$0.1320</td>\n",
       "      <td>19,571,310 PPC</td>\n",
       "      <td>0.99%</td>\n",
       "      <td>-2.24%</td>\n",
       "      <td>7.65%</td>\n",
       "    </tr>\n",
       "    <tr>\n",
       "      <th>4</th>\n",
       "      <td>5</td>\n",
       "      <td>Novacoin</td>\n",
       "      <td>NVC</td>\n",
       "      <td>$867,500</td>\n",
       "      <td>$2.84</td>\n",
       "      <td>305,695 NVC</td>\n",
       "      <td>0.30%</td>\n",
       "      <td>1.72%</td>\n",
       "      <td>-8.67%</td>\n",
       "    </tr>\n",
       "  </tbody>\n",
       "</table>\n",
       "</div>"
      ],
      "text/plain": [
       "  Rank      Name Symbol    Market Cap    Price Circulating Supply  \\\n",
       "0    1   Bitcoin    BTC  $848,838,936   $74.56     11,384,475 BTC   \n",
       "1    2  Litecoin    LTC   $51,099,941    $2.66     19,235,004 LTC   \n",
       "2    3  Namecoin    NMC    $2,598,102  $0.4369      5,946,293 NMC   \n",
       "3    4  Peercoin    PPC    $2,582,887  $0.1320     19,571,310 PPC   \n",
       "4    5  Novacoin    NVC      $867,500    $2.84        305,695 NVC   \n",
       "\n",
       "  1 Hour Percent Change 24 Hour Percent Change 7 Day Percent Change  \n",
       "0                 1.27%                  7.20%              -23.21%  \n",
       "1                 1.16%                  6.87%              -11.42%  \n",
       "2                -0.42%                 -3.99%              -13.82%  \n",
       "3                 0.99%                 -2.24%                7.65%  \n",
       "4                 0.30%                  1.72%               -8.67%  "
      ]
     },
     "execution_count": 385,
     "metadata": {},
     "output_type": "execute_result"
    }
   ],
   "source": [
    "#Max of Top 200 Crypto Histories\n",
    "logs = []\n",
    "\n",
    "for w in range(0,len(itinerary),1):\n",
    "    \n",
    "    tds = itinerary_trs[w].find_all('td')\n",
    "\n",
    "    log = {}\n",
    "\n",
    "    rank = tds[0].find_all('div')[0].get_text()\n",
    "    name = tds[1].find_all('a')[0].getText()\n",
    "    symbol = tds[2].find_all('div')[0].get_text()\n",
    "    marketcap = tds[3].find_all('p')[0].getText()\n",
    "    price = tds[4].find_all('a')[0].getText()\n",
    "    circsupp = tds[5].find_all('div')[0].get_text()\n",
    "    p1h = tds[6].find_all('div')[0].get_text()\n",
    "    p24h = tds[7].find_all('div')[0].get_text()\n",
    "    p7d = tds[8].find_all('div')[0].get_text()\n",
    "\n",
    "    log['Rank'] = rank\n",
    "    log['Name'] = name\n",
    "    log['Symbol'] = symbol\n",
    "    log['Market Cap'] = marketcap\n",
    "    log['Price'] = price\n",
    "    log['Circulating Supply'] = circsupp\n",
    "    log['1 Hour Percent Change'] = p1h\n",
    "    log['24 Hour Percent Change'] = p24h\n",
    "    log['7 Day Percent Change'] = p7d\n",
    "    \n",
    "\n",
    "    logs.append(log)\n",
    "\n",
    "#logs\n",
    "print(f'-------------Historical Snapshot for NAME OF CRYPTO on {birth}-------------')\n",
    "textbook = pd.DataFrame(logs)\n",
    "textbook.head()"
   ]
  }
 ],
 "metadata": {
  "kernelspec": {
   "display_name": "Python 3",
   "language": "python",
   "name": "python3"
  },
  "language_info": {
   "codemirror_mode": {
    "name": "ipython",
    "version": 3
   },
   "file_extension": ".py",
   "mimetype": "text/x-python",
   "name": "python",
   "nbconvert_exporter": "python",
   "pygments_lexer": "ipython3",
   "version": "3.8.5"
  }
 },
 "nbformat": 4,
 "nbformat_minor": 4
}
