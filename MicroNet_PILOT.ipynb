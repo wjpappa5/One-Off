{
 "cells": [
  {
   "cell_type": "code",
   "execution_count": null,
   "metadata": {},
   "outputs": [],
   "source": [
    "#Dependencies and libraries\n",
    "import pandas as pd\n",
    "from splinter import Browser\n",
    "from webdriver_manager.chrome import ChromeDriverManager\n",
    "import datetime\n",
    "from datetime import datetime\n",
    "import time\n",
    "import os"
   ]
  },
  {
   "cell_type": "code",
   "execution_count": null,
   "metadata": {},
   "outputs": [],
   "source": [
    "#Setup splinter\n",
    "executable_path = {'executable_path': ChromeDriverManager().install()}\n",
    "browser = Browser('chrome', **executable_path, headless=False)"
   ]
  },
  {
   "cell_type": "code",
   "execution_count": null,
   "metadata": {},
   "outputs": [],
   "source": [
    "#Remember to uncomment active variables\n",
    "\n",
    "#call elements\n",
    "latest = 'latest/latest?'\n",
    "\n",
    "#replace latest variable\n",
    "#startdate = 'YYYYMMDDT0000/'\n",
    "#enddate = '/YYYYMMDDT0000?'\n",
    "\n",
    "#Station Lat/Lon FYSA: https://api.nysmesonet.org/meta/geoinfo/index.php/csv/nyc\n",
    "stations = 'stations=bkbrow,bkmapl,bknyrd,bxvnst,mhalph,mhchel,mhmhil,qnasto,qncoro,qndkil,qnhbea,qnlici,qnmasp,qnsozo,qntlcc,sifkil'\n",
    "\n",
    "#remove timezone if prefer UTC default\n",
    "timezone = '&timezone=America/New_York'\n",
    "\n",
    "#append or replace to end of call\n",
    "\n",
    "temptwom = '&variables[]=tair@degF'\n",
    "#relhumid = '&variables[]=relh@percent'\n",
    "#ninemtemp = '&variables[]=ta9m@degF'\n",
    "#watertemp = '&variables[]=t_water@degF' #ADD 'mhlsqr' to stations list\n",
    "#irtemp = '&variables[]=t_ir@degF'\n",
    "#dewpoint = '&variables[]=dewpoint@degF'\n",
    "#fiveminincprecip = '&variables[]=precip_incremental@inch'\n",
    "#precipmidnight = '&variables[]=precip_local@inch'\n",
    "#max1ints5min = '&variables[]=precip_max_intensity'\n",
    "#propellerwinds = '&variables[]=winds_prop@mile/hr'\n",
    "#anemwinds = '&variables[]=winds_sonic@mile/hr'\n",
    "#mergedwinds = '&variables[]=winds_merge@mile/hr'\n",
    "#solar = '&variables[]=srad@W/m^2'\n",
    "#stationpressure = '&variables[]=pres@inHg'\n",
    "#snowdepth = '&variables[]=snow_depth@inch'\n",
    "#soiltemp = '&variables[]=soil_temperatures@degF'\n",
    "#soilmoisture = '&variables[]=soil_moistures@m^3/m^3'\n",
    "\n",
    "url = f'https://api.nysmesonet.org/data/dynserv/coned/5min/nyc/{latest}{stations}{timezone}{temptwom}'\n",
    "\n",
    "browser.visit(url)\n",
    "time.sleep(2)\n",
    "browser.quit()"
   ]
  },
  {
   "cell_type": "code",
   "execution_count": null,
   "metadata": {},
   "outputs": [],
   "source": [
    "os.chdir('../Downloads/')\n",
    "stamp = datetime.now().strftime(\"%Y%m%d-%H%M%S\")\n",
    "old_name = 'results.csv'\n",
    "new_name = f'request_{stamp}.csv'\n",
    "os.rename(old_name,new_name)"
   ]
  },
  {
   "cell_type": "code",
   "execution_count": null,
   "metadata": {},
   "outputs": [],
   "source": [
    "#Pull file names for pandas reading\n",
    "os.listdir()"
   ]
  },
  {
   "cell_type": "code",
   "execution_count": null,
   "metadata": {},
   "outputs": [],
   "source": [
    "#view results in Pandas\n",
    "verify = pd.read_csv('')\n",
    "verify"
   ]
  },
  {
   "cell_type": "code",
   "execution_count": null,
   "metadata": {},
   "outputs": [],
   "source": []
  }
 ],
 "metadata": {
  "kernelspec": {
   "display_name": "Python 3",
   "language": "python",
   "name": "python3"
  },
  "language_info": {
   "codemirror_mode": {
    "name": "ipython",
    "version": 3
   },
   "file_extension": ".py",
   "mimetype": "text/x-python",
   "name": "python",
   "nbconvert_exporter": "python",
   "pygments_lexer": "ipython3",
   "version": "3.8.5"
  }
 },
 "nbformat": 4,
 "nbformat_minor": 4
}
