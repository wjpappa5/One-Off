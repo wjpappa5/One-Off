{
 "cells": [
  {
   "cell_type": "code",
   "execution_count": null,
   "metadata": {},
   "outputs": [],
   "source": [
    "from bs4 import BeautifulSoup\n",
    "import requests\n",
    "import pandas as pd\n",
    "from config import gkey\n",
    "import json"
   ]
  },
  {
   "cell_type": "code",
   "execution_count": null,
   "metadata": {},
   "outputs": [],
   "source": [
    "url = \"https://www.nytimes.com/interactive/2020/us/states-reopen-map-coronavirus.html\""
   ]
  },
  {
   "cell_type": "code",
   "execution_count": null,
   "metadata": {},
   "outputs": [],
   "source": [
    "response = requests.get(url)"
   ]
  },
  {
   "cell_type": "code",
   "execution_count": null,
   "metadata": {},
   "outputs": [],
   "source": [
    "soup = BeautifulSoup(response.text, 'html.parser')\n",
    "#print(soup.prettify())"
   ]
  },
  {
   "cell_type": "code",
   "execution_count": null,
   "metadata": {},
   "outputs": [],
   "source": [
    "states = soup.find_all('div', class_='g-state g-cat-all')"
   ]
  },
  {
   "cell_type": "code",
   "execution_count": null,
   "metadata": {},
   "outputs": [],
   "source": [
    "#All States\n",
    "State = []\n",
    "Status = []\n",
    "BusinessUpdate = []\n",
    "MaskUpdate = []\n",
    "URL = []\n",
    "\n",
    "for state in states:\n",
    "    try:\n",
    "        name = state.find('div',class_='g-name').text.split('›')[0]\n",
    "        info = state.find('span', class_=\"g-text\").text\n",
    "        business = state.find('span', class_='g-rule g-businesses').text\n",
    "        masks = state.find('span', class_='g-rule g-masks').text\n",
    "        links = state.find('span',class_='g-link')\n",
    "        link = links.find('a', href=True)\n",
    "        if (name):\n",
    "            State.append(name)\n",
    "            Status.append(info)\n",
    "            BusinessUpdate.append(business)\n",
    "            MaskUpdate.append(masks)\n",
    "            URL.append(link.get('href'))\n",
    "    except AttributeError as e:\n",
    "        print(e)"
   ]
  },
  {
   "cell_type": "code",
   "execution_count": null,
   "metadata": {},
   "outputs": [],
   "source": [
    "COVID_dict={\"State\":State,\"Status\":Status,\"Business Update\":BusinessUpdate,\"Mask Update\":MaskUpdate,\"URL\":URL}\n",
    "COVID=pd.DataFrame(COVID_dict)\n",
    "#COVID"
   ]
  },
  {
   "cell_type": "code",
   "execution_count": null,
   "metadata": {},
   "outputs": [],
   "source": [
    "COVID['Latitude'] = ''\n",
    "COVID['Longitude'] = ''\n",
    "#COVID"
   ]
  },
  {
   "cell_type": "code",
   "execution_count": null,
   "metadata": {},
   "outputs": [],
   "source": [
    "params = {\"key\": gkey}\n",
    "for index, row in COVID.iterrows():\n",
    "    base_url = \"https://maps.googleapis.com/maps/api/geocode/json\"\n",
    "    \n",
    "    state = row[\"State\"]\n",
    "    \n",
    "    params[\"address\"] = f\"{state}\"\n",
    "    \n",
    "    states_geo = requests.get(base_url, params=params)\n",
    "    \n",
    "    states_geo = states_geo.json()\n",
    "    \n",
    "    try:\n",
    "        COVID.loc[index, \"Latitude\"] = states_geo[\"results\"][0][\"geometry\"][\"location\"][\"lat\"]\n",
    "        COVID.loc[index, \"Longitude\"] = states_geo[\"results\"][0][\"geometry\"][\"location\"][\"lng\"]\n",
    "    except:\n",
    "        print(\"Adjustment Needed\")\n",
    "    \n",
    "#COVID"
   ]
  },
  {
   "cell_type": "code",
   "execution_count": null,
   "metadata": {},
   "outputs": [],
   "source": [
    "#Change the Username\n",
    "COVID.to_csv(r\"C:\\Users\\bpappas\\Downloads\\US-COVID.csv\",index=False)"
   ]
  },
  {
   "cell_type": "code",
   "execution_count": null,
   "metadata": {},
   "outputs": [],
   "source": [
    "import csv\n",
    "import json\n",
    "\n",
    "def make_json(csvFilePath, jsonFilePath):\n",
    "     \n",
    "    data = {}\n",
    "     \n",
    "    with open(csvFilePath, encoding='utf-8') as csvf:\n",
    "        csvReader = csv.DictReader(csvf)\n",
    "         \n",
    "        for rows in csvReader:\n",
    "             \n",
    "            key = rows['State']\n",
    "            data[key] = rows\n",
    " \n",
    "    with open(jsonFilePath, 'w', encoding='utf-8') as jsonf:\n",
    "        jsonf.write(json.dumps(data, indent=4))\n",
    "         \n",
    "# Driver Code\n",
    " \n",
    "# Decide the two file paths according to your \n",
    "# computer system\n",
    "csvFilePath = r'C:\\Users\\bpappas\\Downloads\\US-COVID.csv'\n",
    "jsonFilePath = r'C:\\Users\\bpappas\\Documents\\Data Work\\One-Off\\US-COVID.json'\n",
    " \n",
    "# Call the make_json function\n",
    "make_json(csvFilePath, jsonFilePath)"
   ]
  },
  {
   "cell_type": "code",
   "execution_count": null,
   "metadata": {},
   "outputs": [],
   "source": []
  },
  {
   "cell_type": "code",
   "execution_count": null,
   "metadata": {},
   "outputs": [],
   "source": []
  },
  {
   "cell_type": "code",
   "execution_count": null,
   "metadata": {},
   "outputs": [],
   "source": []
  },
  {
   "cell_type": "code",
   "execution_count": null,
   "metadata": {},
   "outputs": [],
   "source": []
  }
 ],
 "metadata": {
  "kernelspec": {
   "display_name": "Python 3",
   "language": "python",
   "name": "python3"
  },
  "language_info": {
   "codemirror_mode": {
    "name": "ipython",
    "version": 3
   },
   "file_extension": ".py",
   "mimetype": "text/x-python",
   "name": "python",
   "nbconvert_exporter": "python",
   "pygments_lexer": "ipython3",
   "version": "3.8.5"
  }
 },
 "nbformat": 4,
 "nbformat_minor": 4
}
