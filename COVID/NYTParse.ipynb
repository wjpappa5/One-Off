{
 "cells": [
  {
   "cell_type": "code",
   "execution_count": null,
   "metadata": {},
   "outputs": [],
   "source": [
    "from bs4 import BeautifulSoup\n",
    "import requests\n",
    "import pandas as pd"
   ]
  },
  {
   "cell_type": "code",
   "execution_count": null,
   "metadata": {},
   "outputs": [],
   "source": [
    "url = \"https://www.nytimes.com/interactive/2020/us/states-reopen-map-coronavirus.html\""
   ]
  },
  {
   "cell_type": "code",
   "execution_count": null,
   "metadata": {},
   "outputs": [],
   "source": [
    "response = requests.get(url)"
   ]
  },
  {
   "cell_type": "code",
   "execution_count": null,
   "metadata": {},
   "outputs": [],
   "source": [
    "soup = BeautifulSoup(response.text, 'html.parser')\n",
    "#print(soup.prettify())"
   ]
  },
  {
   "cell_type": "code",
   "execution_count": null,
   "metadata": {},
   "outputs": [],
   "source": [
    "states = soup.find_all('div', class_='g-state g-cat-all')"
   ]
  },
  {
   "cell_type": "code",
   "execution_count": null,
   "metadata": {},
   "outputs": [],
   "source": [
    "#All States\n",
    "State = []\n",
    "Status = []\n",
    "BusinessUpdate = []\n",
    "MaskUpdate = []\n",
    "URL = []\n",
    "\n",
    "for state in states:\n",
    "    try:\n",
    "        name = state.find('div',class_='g-name').text.split('›')[0]\n",
    "        info = state.find('span', class_=\"g-text\").text\n",
    "        business = state.find('span', class_='g-rule g-businesses').text\n",
    "        masks = state.find('span', class_='g-rule g-masks').text\n",
    "        links = state.find('span',class_='g-link')\n",
    "        link = links.find('a', href=True)\n",
    "        if (name):\n",
    "            State.append(name)\n",
    "            Status.append(info)\n",
    "            BusinessUpdate.append(business)\n",
    "            MaskUpdate.append(masks)\n",
    "            URL.append(link.get('href'))\n",
    "    except AttributeError as e:\n",
    "        print(e)"
   ]
  },
  {
   "cell_type": "code",
   "execution_count": null,
   "metadata": {},
   "outputs": [],
   "source": [
    "COVID_dict={\"State\":State,\"Status\":Status,\"Business Update\":BusinessUpdate,\"Mask Update\":MaskUpdate,\"URL\":URL}\n",
    "COVID=pd.DataFrame(COVID_dict)\n",
    "COVID"
   ]
  },
  {
   "cell_type": "code",
   "execution_count": null,
   "metadata": {},
   "outputs": [],
   "source": [
    "#Change the Username\n",
    "COVID.to_excel(r\"C:\\Users\\bpappas\\Downloads\\US-COVID.xlsx\",index=False)"
   ]
  },
  {
   "cell_type": "code",
   "execution_count": null,
   "metadata": {},
   "outputs": [],
   "source": []
  }
 ],
 "metadata": {
  "kernelspec": {
   "display_name": "Python 3",
   "language": "python",
   "name": "python3"
  },
  "language_info": {
   "codemirror_mode": {
    "name": "ipython",
    "version": 3
   },
   "file_extension": ".py",
   "mimetype": "text/x-python",
   "name": "python",
   "nbconvert_exporter": "python",
   "pygments_lexer": "ipython3",
   "version": "3.8.5"
  }
 },
 "nbformat": 4,
 "nbformat_minor": 4
}
