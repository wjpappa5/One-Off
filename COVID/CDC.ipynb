{
 "cells": [
  {
   "cell_type": "code",
   "execution_count": null,
   "metadata": {},
   "outputs": [],
   "source": [
    "#Dependencies and libraries\n",
    "import pandas as pd\n",
    "import requests\n",
    "from splinter import Browser\n",
    "from bs4 import BeautifulSoup\n",
    "from webdriver_manager.chrome import ChromeDriverManager\n",
    "import time\n",
    "from datetime import date"
   ]
  },
  {
   "cell_type": "markdown",
   "metadata": {},
   "source": [
    "<h1>Data Table for Case Daily Trends - United States</h1>"
   ]
  },
  {
   "cell_type": "code",
   "execution_count": null,
   "metadata": {},
   "outputs": [],
   "source": [
    "#Setup splinter\n",
    "executable_path = {'executable_path': ChromeDriverManager().install()}\n",
    "browser = Browser('chrome', **executable_path, headless=False)"
   ]
  },
  {
   "cell_type": "code",
   "execution_count": null,
   "metadata": {},
   "outputs": [],
   "source": [
    "#Setting up the Development Browser\n",
    "#REPLACE THE FOLLOWING URL WITH SPECIFIED SOURCE:\n",
    "#Cases - Daily Trends = https://covid.cdc.gov/covid-data-tracker/#trends_dailytrendscases\n",
    "#Cases - Total and Rate (7-Day) = https://covid.cdc.gov/covid-data-tracker/#trends_totalandratecasessevendayrate\n",
    "#Cases - Total and Rate (Total Rate) = https://covid.cdc.gov/covid-data-tracker/#trends_totalandratecasestotalrate\n",
    "#Deaths - Daily Trends = https://covid.cdc.gov/covid-data-tracker/#trends_dailytrendsdeaths\n",
    "#Deaths - Total and Rate (7-Day) = https://covid.cdc.gov/covid-data-tracker/#trends_totalandratedeathssevendayrate\n",
    "#Deaths - Total and Rate (Total Rate) = https://covid.cdc.gov/covid-data-tracker/#trends_totalandratedeathstotalrate\n",
    "\n",
    "url = 'https://covid.cdc.gov/covid-data-tracker/#trends_dailytrendscases'\n",
    "browser.visit(url)"
   ]
  },
  {
   "cell_type": "code",
   "execution_count": null,
   "metadata": {},
   "outputs": [],
   "source": [
    "#Mapping the Bot\n",
    "expand = browser.find_by_xpath('//*[@id=\"us-trends-table-toggle\"]').click()\n",
    "expand"
   ]
  },
  {
   "cell_type": "code",
   "execution_count": null,
   "metadata": {},
   "outputs": [],
   "source": [
    "#After you click this, the csv will be in your \"Downloads\"\n",
    "extract = browser.find_by_xpath('//*[@id=\"btnUSTrendsTableExport\"]').click()\n",
    "extract"
   ]
  },
  {
   "cell_type": "code",
   "execution_count": null,
   "metadata": {},
   "outputs": [],
   "source": [
    "#Reformat Table -- REMEMBER TO CHANGE THE USERNAME\n",
    "raw = r'C:\\Users\\bpappas\\Downloads\\case_daily_trends__united_states.csv'\n",
    "total_raw = pd.read_csv(raw,skiprows=3,header=0)\n",
    "total_raw"
   ]
  },
  {
   "cell_type": "code",
   "execution_count": null,
   "metadata": {},
   "outputs": [],
   "source": [
    "#Reformat DataFrame\n",
    "split = total_raw.Date.str.split(expand=True)\n",
    "split_rename = split.rename(columns={0:'Month',1:'Day',2:'Year'})\n",
    "split_rename['Month'] = split_rename['Month'].replace({'Jan':'01','Feb':'02','Mar':'03','Apr':'04','May':'05','Jun':'06','Jul':'07','Aug':'08','Sep':'09','Oct':'10','Nov':'11','Dec':'12'})\n",
    "dates = split_rename['Year']+split_rename['Month']+split_rename['Day']\n",
    "final_date = pd.to_datetime(dates, format='%Y%m%d',errors='coerce')\n",
    "total_raw['Dates'] = final_date\n",
    "drops = total_raw.drop(['Date'],axis=1)\n",
    "rename = drops.rename(columns={'Dates':'Date'})\n",
    "reorder = rename[['Date','New Cases','7-Day Moving Avg']]\n",
    "sort = reorder.sort_values(by=['Date'],ascending=False)\n",
    "nation_final = sort.reset_index(drop=True)\n",
    "nation_final"
   ]
  },
  {
   "cell_type": "code",
   "execution_count": null,
   "metadata": {},
   "outputs": [],
   "source": [
    "#Set Date\n",
    "today = date.today()\n",
    "d = today.strftime(\"%m%d%Y\")\n",
    "#print(d)"
   ]
  },
  {
   "cell_type": "code",
   "execution_count": null,
   "metadata": {},
   "outputs": [],
   "source": [
    "#Set File Path -- REMEMBER TO CHANGE THE USERNAME\n",
    "import os\n",
    "export_loc = r\"C:\\Users\\bpappas\\Documents\\State Data\\Combined Data\"\n",
    "os.chdir(export_loc)"
   ]
  },
  {
   "cell_type": "code",
   "execution_count": null,
   "metadata": {},
   "outputs": [],
   "source": [
    "#Export DataFrame to Documents\n",
    "nation_final.to_csv(f'COVID-19 National Raw Data_{d}.csv',index=False)"
   ]
  },
  {
   "cell_type": "markdown",
   "metadata": {},
   "source": [
    "<h1>Data Table for Each State Daily Trends - United States</h1>"
   ]
  },
  {
   "cell_type": "code",
   "execution_count": null,
   "metadata": {},
   "outputs": [],
   "source": [
    "#Pulling all CSVs for each State from CDC website\n",
    "#All of the files will be individually located in your downloads\n",
    "for s in range(2,61,1):\n",
    "    state_expand = browser.find_by_xpath('//*[@id=\"trends-selection-options\"]/div[1]/div[2]').click()\n",
    "    state_select = browser.find_by_xpath(f'//*[@id=\"trends-selection-options\"]/div[1]/div[2]/div[2]/div[{s}]').click()\n",
    "    state_extract = browser.find_by_xpath('//*[@id=\"btnUSTrendsTableExport\"]').click()\n",
    "    state_expand\n",
    "    state_select\n",
    "    state_extract"
   ]
  },
  {
   "cell_type": "code",
   "execution_count": null,
   "metadata": {},
   "outputs": [],
   "source": [
    "#Quit the Development Browser\n",
    "browser.quit()"
   ]
  },
  {
   "cell_type": "markdown",
   "metadata": {},
   "source": [
    "<h1>Exporting All State CSV</h1>"
   ]
  },
  {
   "cell_type": "markdown",
   "metadata": {},
   "source": [
    "<p>When the documents are finished downloading, copy all of the downloads, go to your 'Documents,' create a new folder named 'State Data,' and paste the files there. Inside the 'State Data' folder, create another folder named 'Combined Data.'</p>"
   ]
  },
  {
   "cell_type": "code",
   "execution_count": null,
   "metadata": {},
   "outputs": [],
   "source": [
    "#Reading in CSVs\n",
    "!pip install glob2\n",
    "import glob\n",
    "\n",
    "#REMEMBER TO REPLACE THE USERNAME\n",
    "\n",
    "path =r'C:\\Users\\bpappas\\Documents\\State Data'\n",
    "\n",
    "filenames = glob.glob(path + \"/*.csv\")\n",
    "#filenames"
   ]
  },
  {
   "cell_type": "code",
   "execution_count": null,
   "metadata": {},
   "outputs": [],
   "source": [
    "#Combining and Setting up Final DataFrame\n",
    "dfs = []\n",
    "\n",
    "for f in filenames:\n",
    "    title = f.split('__')[1].split('.')[0].replace('_',\" \")\n",
    "    df = pd.read_csv(f,skiprows=3,header=0)\n",
    "    df['State'] = name\n",
    "    \n",
    "\n",
    "    dfs.append(df)\n",
    "\n",
    "all_states = pd.concat(dfs, ignore_index=True)\n",
    "all_states"
   ]
  },
  {
   "cell_type": "code",
   "execution_count": null,
   "metadata": {},
   "outputs": [],
   "source": [
    "#Reformat DataFrame\n",
    "split = all_states.Date.str.split(expand=True)\n",
    "split_rename = split.rename(columns={0:'Month',1:'Day',2:'Year'})\n",
    "split_rename['Month'] = split_rename['Month'].replace({'Jan':'01','Feb':'02','Mar':'03','Apr':'04','May':'05','Jun':'06','Jul':'07','Aug':'08','Sep':'09','Oct':'10','Nov':'11','Dec':'12'})\n",
    "dates = split_rename['Year']+split_rename['Month']+split_rename['Day']\n",
    "final_date = pd.to_datetime(dates, format='%Y%m%d',errors='coerce')\n",
    "all_states['Dates'] = final_date\n",
    "drops = all_states.drop(['Date'],axis=1)\n",
    "rename = drops.rename(columns={'Dates':'Date'})\n",
    "reorder = rename[['Date','New Cases','7-Day Moving Avg','State']]\n",
    "sort = reorder.sort_values(by=['Date'],ascending=False)\n",
    "states_final = sort.reset_index(drop=True)\n",
    "states_final"
   ]
  },
  {
   "cell_type": "code",
   "execution_count": null,
   "metadata": {},
   "outputs": [],
   "source": [
    "#Acronym Replace\n",
    "states_final['State'] = states_final['State'].replace({'alabama' : 'AL',  'alaska' : 'AK',  'arizona' : 'AZ',  'arkansas' : 'AR',  'california' : 'CA',  'colorado' : 'CO',  'connecticut' : 'CT',  'delaware' : 'DE',  'district of columbia' : 'DC',  'florida' : 'FL',  'georgia' : 'GA',  'hawaii' : 'HI',  'idaho' : 'ID',  'illinois' : 'IL',  'indiana' : 'IN',  'iowa' : 'IA',  'kansas' : 'KS',  'louisiana' : 'LA',  'maine' : 'ME',  'maryland' : 'MD',  'massachusetts' : 'MA',  'minnesota' : 'MI',  'mississippi' : 'MS',  'missouri' : 'MO',  'montana' : 'MT',  'nebraska' : 'NB',  'nevada' : 'NV',  'new hampshire' : 'NH',  'new jersey' : 'NJ',  'new mexico' : 'NM',  'new york ' : 'NY',  'new york city ' : 'NYC',  'north carolina' : 'NC',  'north dakota' : 'ND',  'ohio' : 'OH',  'oklahoma' : 'OK',  'oregon' : 'OR',  'pennsylvania' : 'PA',  'rhode island' : 'RI',  'south carolina' : 'SC',  'south dakota' : 'SD',  'tennessee' : 'TN',  'texas' : 'TX',  'utah' : 'UT',  'vermont' : 'VT',  'virginia' : 'VA',  'washington' : 'WA', 'west virginia' : 'WV',  'wisconsin' : 'WI',  'wyoming' : 'WY'})\n",
    "states_final"
   ]
  },
  {
   "cell_type": "code",
   "execution_count": null,
   "metadata": {},
   "outputs": [],
   "source": [
    "#Set Date\n",
    "today = date.today()\n",
    "d = today.strftime(\"%m%d%Y\")\n",
    "#print(d)"
   ]
  },
  {
   "cell_type": "code",
   "execution_count": null,
   "metadata": {},
   "outputs": [],
   "source": [
    "#Set File Path -- REMEMBER TO CHANGE THE USERNAME\n",
    "import os\n",
    "export_loc = r\"C:\\Users\\bpappas\\Documents\\State Data\\Combined Data\"\n",
    "os.chdir(export_loc)"
   ]
  },
  {
   "cell_type": "code",
   "execution_count": null,
   "metadata": {},
   "outputs": [],
   "source": [
    "#Export DataFrame to Documents\n",
    "states_final.to_csv(f'COVID-19 State Data Pull_{d}.csv',index=False)"
   ]
  },
  {
   "cell_type": "markdown",
   "metadata": {},
   "source": [
    "<h1>Data Table for Vaccinations by Each State - United States</h1>"
   ]
  },
  {
   "cell_type": "code",
   "execution_count": null,
   "metadata": {},
   "outputs": [],
   "source": [
    "#Setup splinter\n",
    "executable_path = {'executable_path': ChromeDriverManager().install()}\n",
    "browser = Browser('chrome', **executable_path, headless=False)"
   ]
  },
  {
   "cell_type": "code",
   "execution_count": null,
   "metadata": {},
   "outputs": [],
   "source": [
    "#New URL\n",
    "url = 'https://covid.cdc.gov/covid-data-tracker/#vaccinations'\n",
    "browser.visit(url)"
   ]
  },
  {
   "cell_type": "code",
   "execution_count": null,
   "metadata": {},
   "outputs": [],
   "source": [
    "#Mapping the Bot\n",
    "expand = browser.find_by_xpath('//*[@id=\"vaccinations-table-toggle\"]').click()\n",
    "expand"
   ]
  },
  {
   "cell_type": "code",
   "execution_count": null,
   "metadata": {},
   "outputs": [],
   "source": [
    "#After you click this, the csv will be in your \"Downloads\"\n",
    "extract = browser.find_by_xpath('//*[@id=\"btnVaccinationsExport\"]').click()\n",
    "extract\n",
    "time.sleep(2)\n",
    "browser.quit()"
   ]
  },
  {
   "cell_type": "code",
   "execution_count": null,
   "metadata": {},
   "outputs": [],
   "source": [
    "#Reformat Table -- REMEMBER TO CHANGE THE USERNAME\n",
    "vaccine = r'C:\\Users\\bpappas\\Downloads\\covid19_vaccinations_in_the_united_states.csv'\n",
    "total_vx = pd.read_csv(vaccine,skiprows=3,header=0)\n",
    "total_vx"
   ]
  },
  {
   "cell_type": "code",
   "execution_count": null,
   "metadata": {},
   "outputs": [],
   "source": [
    "#Set Date\n",
    "today = date.today()\n",
    "d = today.strftime(\"%m%d%Y\")\n",
    "#print(d)"
   ]
  },
  {
   "cell_type": "code",
   "execution_count": null,
   "metadata": {},
   "outputs": [],
   "source": [
    "#Set File Path -- REMEMBER TO CHANGE THE USERNAME\n",
    "import os\n",
    "export_loc = r\"C:\\Users\\bpappas\\Documents\\State Data\\Combined Data\"\n",
    "os.chdir(export_loc)"
   ]
  },
  {
   "cell_type": "code",
   "execution_count": null,
   "metadata": {},
   "outputs": [],
   "source": [
    "#Export DataFrame to Documents\n",
    "total_vx.to_csv(f'COVID-19 Vaccination Data_{d}.csv',index=False)"
   ]
  },
  {
   "cell_type": "markdown",
   "metadata": {},
   "source": [
    "<h1>Data Table for Testing by Each State - United States</h1>"
   ]
  },
  {
   "cell_type": "code",
   "execution_count": null,
   "metadata": {},
   "outputs": [],
   "source": [
    "#Setup splinter\n",
    "executable_path = {'executable_path': ChromeDriverManager().install()}\n",
    "browser = Browser('chrome', **executable_path, headless=False)"
   ]
  },
  {
   "cell_type": "code",
   "execution_count": null,
   "metadata": {},
   "outputs": [],
   "source": [
    "#New URL\n",
    "url = 'https://covid.cdc.gov/covid-data-tracker/#testing_positivity7day'\n",
    "browser.visit(url)"
   ]
  },
  {
   "cell_type": "code",
   "execution_count": null,
   "metadata": {},
   "outputs": [],
   "source": [
    "#Mapping the Bot\n",
    "expand = browser.find_by_xpath('//*[@id=\"testing-table-toggle\"]').click()\n",
    "expand"
   ]
  },
  {
   "cell_type": "code",
   "execution_count": null,
   "metadata": {},
   "outputs": [],
   "source": [
    "#After you click this, the csv will be in your \"Downloads\"\n",
    "extract = browser.find_by_xpath('//*[@id=\"btnUSTableExport\"]').click()\n",
    "extract\n",
    "time.sleep(2)\n",
    "browser.quit()"
   ]
  },
  {
   "cell_type": "code",
   "execution_count": null,
   "metadata": {},
   "outputs": [],
   "source": [
    "#Reformat Table -- REMEMBER TO CHANGE THE USERNAME\n",
    "tests = r'C:\\Users\\bpappas\\Downloads\\covid19_tests_performed_by_state.csv'\n",
    "total_test = pd.read_csv(tests,skiprows=3,header=0)\n",
    "total_test"
   ]
  },
  {
   "cell_type": "code",
   "execution_count": null,
   "metadata": {},
   "outputs": [],
   "source": [
    "#Set Date\n",
    "today = date.today()\n",
    "d = today.strftime(\"%m%d%Y\")\n",
    "#print(d)"
   ]
  },
  {
   "cell_type": "code",
   "execution_count": null,
   "metadata": {},
   "outputs": [],
   "source": [
    "#Set File Path -- REMEMBER TO CHANGE THE USERNAME\n",
    "import os\n",
    "export_loc = r\"C:\\Users\\bpappas\\Documents\\State Data\\Combined Data\"\n",
    "os.chdir(export_loc)"
   ]
  },
  {
   "cell_type": "code",
   "execution_count": null,
   "metadata": {},
   "outputs": [],
   "source": [
    "#Export DataFrame to Documents\n",
    "total_test.to_csv(f'COVID-19 Testing Data_{d}.csv',index=False)"
   ]
  },
  {
   "cell_type": "code",
   "execution_count": null,
   "metadata": {},
   "outputs": [],
   "source": []
  }
 ],
 "metadata": {
  "kernelspec": {
   "display_name": "Python 3",
   "language": "python",
   "name": "python3"
  },
  "language_info": {
   "codemirror_mode": {
    "name": "ipython",
    "version": 3
   },
   "file_extension": ".py",
   "mimetype": "text/x-python",
   "name": "python",
   "nbconvert_exporter": "python",
   "pygments_lexer": "ipython3",
   "version": "3.8.5"
  }
 },
 "nbformat": 4,
 "nbformat_minor": 4
}
