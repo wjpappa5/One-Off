{
 "cells": [
  {
   "cell_type": "code",
   "execution_count": null,
   "metadata": {},
   "outputs": [],
   "source": [
    "import pandas as pd\n",
    "import requests\n",
    "from splinter import Browser\n",
    "from webdriver_manager.chrome import ChromeDriverManager"
   ]
  },
  {
   "cell_type": "code",
   "execution_count": null,
   "metadata": {},
   "outputs": [],
   "source": [
    "#Setup splinter\n",
    "executable_path = {'executable_path': ChromeDriverManager().install()}\n",
    "browser = Browser('chrome', **executable_path, headless=False)"
   ]
  },
  {
   "cell_type": "code",
   "execution_count": null,
   "metadata": {},
   "outputs": [],
   "source": [
    "url = 'https://covid19travelinfo.cdc.gov/#/'\n",
    "browser.visit(url)"
   ]
  },
  {
   "cell_type": "code",
   "execution_count": null,
   "metadata": {
    "scrolled": true
   },
   "outputs": [],
   "source": [
    "states = ['Alabama','Alaska','Arizona','Arkansas','California','Colorado','Connecticut','Delaware','Florida','Georgia','Hawaii','Idaho','Illinois','Indiana','Iowa','Kansas','Kentucky','Louisiana','Maine','Maryland','Massachusetts','Michigan','Minnesota','Mississippi','Missouri','Montana','Nebraska','Nevada','New Hampshire','New Jersey','New Mexico','New York','North Carolina','North Dakota','Ohio','Oklahoma','Oregon','Pennsylvania','Rhode Island','South Carolina','South Dakota','Tennessee','Texas','Utah','Vermont','Virginia','Washington','West Virginia','Wisconsin','Wyoming']"
   ]
  },
  {
   "cell_type": "code",
   "execution_count": null,
   "metadata": {},
   "outputs": [],
   "source": [
    "restrictions = []\n",
    "\n",
    "for s in range(0,len(states),1):\n",
    "    \n",
    "    url = 'https://covid19travelinfo.cdc.gov/#/'\n",
    "    browser.visit(url)\n",
    "    \n",
    "    browser.find_by_tag('input').type(states[s])\n",
    "    browser.find_by_xpath('//*[@id=\"search-button\"]').click()\n",
    "    \n",
    "    restrict = {}\n",
    "    \n",
    "    try:\n",
    "        about = browser.find_by_xpath('//*[@id=\"hd-info-card\"]/div[2]/small').text\n",
    "    except:\n",
    "        aoubt = None\n",
    "    try:\n",
    "        quarantine = browser.find_by_xpath('//*[@id=\"root\"]/div/div/div[1]/div[2]/div[1]/div/div/div/p').text.split(' \\n')[0]\n",
    "    except:\n",
    "        quarantine = None\n",
    "    try:\n",
    "        businesses = browser.find_by_xpath('//*[@id=\"root\"]/div/div/div[1]/div[2]/div[2]/div/div/div/p').text\n",
    "    except:\n",
    "        businesses = None\n",
    "    try:\n",
    "        contact_info = browser.find_by_xpath('//*[@id=\"root\"]/div/div/div[1]/div[2]/div[3]/div/div/div/p').text\n",
    "    except:\n",
    "        contact_info = None\n",
    "    try:\n",
    "        testing_reqs = browser.find_by_xpath('//*[@id=\"root\"]/div/div/div[1]/div[2]/div[4]/div/div/div/p').text\n",
    "    except:\n",
    "        testing_reqs = None\n",
    "    try:\n",
    "        symptoms = browser.find_by_xpath('//*[@id=\"root\"]/div/div/div[1]/div[1]/div[5]/div/div/div/p').text\n",
    "    except:\n",
    "        symptoms = None\n",
    "    try:\n",
    "        masks = browser.find_by_xpath('//*[@id=\"root\"]/div/div/div[1]/div[1]/div[6]/div/div/div/p').text\n",
    "    except:\n",
    "        masks = None\n",
    "    try:\n",
    "        gathering = browser.find_by_xpath('//*[@id=\"root\"]/div/div/div[1]/div[1]/div[7]/div/div/div/p').text\n",
    "    except:\n",
    "        gathering = None\n",
    "    \n",
    " \n",
    "    browser.find_by_tag('input').clear()\n",
    "    \n",
    "    restrict['State'] = states[s]\n",
    "    restrict['Last Updated'] = about\n",
    "    restrict['Self-Quarantine?'] = quarantine\n",
    "    restrict['Closed to Travelers?'] = businesses\n",
    "    restrict['Submit Information to DOH?'] = contact_info\n",
    "    restrict['Testing Requirements?'] = testing_reqs\n",
    "    restrict['Contact if Symptomatic?'] = symptoms\n",
    "    restrict['Mask Mandate?'] = masks\n",
    "    restrict['Gathering Size?'] = gathering\n",
    "    \n",
    "    restrictions.append(restrict)\n",
    "    \n",
    "#restrictions\n",
    "travel_data = pd.DataFrame(restrictions)\n",
    "travel_data"
   ]
  },
  {
   "cell_type": "code",
   "execution_count": null,
   "metadata": {},
   "outputs": [],
   "source": []
  },
  {
   "cell_type": "code",
   "execution_count": null,
   "metadata": {},
   "outputs": [],
   "source": []
  }
 ],
 "metadata": {
  "kernelspec": {
   "display_name": "Python 3",
   "language": "python",
   "name": "python3"
  },
  "language_info": {
   "codemirror_mode": {
    "name": "ipython",
    "version": 3
   },
   "file_extension": ".py",
   "mimetype": "text/x-python",
   "name": "python",
   "nbconvert_exporter": "python",
   "pygments_lexer": "ipython3",
   "version": "3.8.5"
  }
 },
 "nbformat": 4,
 "nbformat_minor": 4
}
