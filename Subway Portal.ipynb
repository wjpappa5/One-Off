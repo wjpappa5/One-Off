{
 "cells": [
  {
   "cell_type": "code",
   "execution_count": null,
   "id": "e22cb7bc",
   "metadata": {},
   "outputs": [],
   "source": [
    "from google.transit import gtfs_realtime_pb2\n",
    "import pandas as pd\n",
    "import numpy as np\n",
    "import requests\n",
    "import datetime\n",
    "import time\n",
    "import json"
   ]
  },
  {
   "cell_type": "code",
   "execution_count": null,
   "id": "3dbf9c9b",
   "metadata": {},
   "outputs": [],
   "source": [
    "#Count of Topic\n",
    "count=gtfs_realtime_pb2.FeedMessage()\n",
    "types = requests.get('https://api-endpoint.mta.info/Dataservice/mtagtfsfeeds/nyct%2Fgtfs',headers={'x-api-key':'B6Cot4zwak7OFKJvc3FNx8rYp7mkTT8s4eyOy6Rc'})\n",
    "count.ParseFromString(types.content)"
   ]
  },
  {
   "cell_type": "code",
   "execution_count": null,
   "id": "f8cd8ec4",
   "metadata": {},
   "outputs": [],
   "source": [
    "#JSON feeds for alerts\n",
    "jform = requests.get('https://api-endpoint.mta.info/Dataservice/mtagtfsfeeds/camsys%2Fall-alerts.json',headers={'x-api-key':'B6Cot4zwak7OFKJvc3FNx8rYp7mkTT8s4eyOy6Rc'}).json()\n",
    "print(json.dumps(jform, indent=4, sort_keys=True))"
   ]
  },
  {
   "cell_type": "code",
   "execution_count": null,
   "id": "8402dd6e",
   "metadata": {},
   "outputs": [],
   "source": [
    "#pypi underground for specific lines\n",
    "from underground import metadata, SubwayFeed\n",
    "API_KEY = 'B6Cot4zwak7OFKJvc3FNx8rYp7mkTT8s4eyOy6Rc'\n",
    "ROUTE = 'Q'\n",
    "feed = SubwayFeed.get(ROUTE, api_key=API_KEY)\n",
    "feed.extract_stop_dict()"
   ]
  },
  {
   "cell_type": "code",
   "execution_count": null,
   "id": "c5b80747",
   "metadata": {},
   "outputs": [],
   "source": []
  }
 ],
 "metadata": {
  "kernelspec": {
   "display_name": "Python 3 (ipykernel)",
   "language": "python",
   "name": "python3"
  },
  "language_info": {
   "codemirror_mode": {
    "name": "ipython",
    "version": 3
   },
   "file_extension": ".py",
   "mimetype": "text/x-python",
   "name": "python",
   "nbconvert_exporter": "python",
   "pygments_lexer": "ipython3",
   "version": "3.9.15"
  }
 },
 "nbformat": 4,
 "nbformat_minor": 5
}
